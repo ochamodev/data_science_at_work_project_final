{
 "cells": [
  {
   "metadata": {},
   "cell_type": "markdown",
   "source": "# Testing overfitting",
   "id": "f6e914f899e84d09"
  },
  {
   "metadata": {
    "ExecuteTime": {
     "end_time": "2024-12-06T06:34:45.832365Z",
     "start_time": "2024-12-06T06:34:45.823542Z"
    }
   },
   "cell_type": "code",
   "source": [
    "import numpy as np\n",
    "import pandas as pd\n",
    "from sklearn.model_selection import train_test_split\n",
    "from sklearn.preprocessing import StandardScaler\n",
    "from sklearn.metrics import classification_report, confusion_matrix\n",
    "from tensorflow.keras.models import Model\n",
    "from tensorflow.keras.layers import Input, Dense\n",
    "from tensorflow.keras.optimizers import Adam\n",
    "from imblearn.over_sampling import SMOTE\n",
    "from sklearn.ensemble import RandomForestClassifier\n",
    "from sklearn.linear_model import LogisticRegression\n"
   ],
   "id": "aeea3f81e546e600",
   "outputs": [],
   "execution_count": 18
  },
  {
   "cell_type": "code",
   "id": "initial_id",
   "metadata": {
    "collapsed": true,
    "ExecuteTime": {
     "end_time": "2024-12-06T05:38:04.478767Z",
     "start_time": "2024-12-06T05:35:44.434098Z"
    }
   },
   "source": [
    "# Ruta al archivo kaggle.json\n",
    "kaggle_json_path = \"./kaggle.json\"\n",
    "\n",
    "# Configurar la API para usar el archivo en esta ubicación\n",
    "os.environ['KAGGLE_CONFIG_DIR'] = os.getcwd()\n",
    "\n",
    "# Autenticar con la API\n",
    "api = KaggleApi()\n",
    "api.authenticate()\n",
    "\n",
    "# Descargar el dataset\n",
    "dataset_name = \"mlg-ulb/creditcardfraud\"\n",
    "download_path = \"./data\"\n",
    "os.makedirs(download_path, exist_ok=True)\n",
    "\n",
    "print(\"Descargando el dataset...\")\n",
    "api.dataset_download_files(dataset_name, path=download_path, unzip=True)\n",
    "\n",
    "# Cargar el dataset\n",
    "dataset_file_path = os.path.join(download_path, \"creditcard.csv\")\n",
    "df = pd.read_csv(dataset_file_path)\n",
    "\n",
    "print(\"Dataset cargado correctamente:\")\n",
    "print(df.head())\n"
   ],
   "outputs": [
    {
     "name": "stdout",
     "output_type": "stream",
     "text": [
      "Descargando el dataset...\n",
      "Dataset URL: https://www.kaggle.com/datasets/mlg-ulb/creditcardfraud\n",
      "Dataset cargado correctamente:\n",
      "   Time        V1        V2        V3        V4        V5        V6        V7  \\\n",
      "0   0.0 -1.359807 -0.072781  2.536347  1.378155 -0.338321  0.462388  0.239599   \n",
      "1   0.0  1.191857  0.266151  0.166480  0.448154  0.060018 -0.082361 -0.078803   \n",
      "2   1.0 -1.358354 -1.340163  1.773209  0.379780 -0.503198  1.800499  0.791461   \n",
      "3   1.0 -0.966272 -0.185226  1.792993 -0.863291 -0.010309  1.247203  0.237609   \n",
      "4   2.0 -1.158233  0.877737  1.548718  0.403034 -0.407193  0.095921  0.592941   \n",
      "\n",
      "         V8        V9  ...       V21       V22       V23       V24       V25  \\\n",
      "0  0.098698  0.363787  ... -0.018307  0.277838 -0.110474  0.066928  0.128539   \n",
      "1  0.085102 -0.255425  ... -0.225775 -0.638672  0.101288 -0.339846  0.167170   \n",
      "2  0.247676 -1.514654  ...  0.247998  0.771679  0.909412 -0.689281 -0.327642   \n",
      "3  0.377436 -1.387024  ... -0.108300  0.005274 -0.190321 -1.175575  0.647376   \n",
      "4 -0.270533  0.817739  ... -0.009431  0.798278 -0.137458  0.141267 -0.206010   \n",
      "\n",
      "        V26       V27       V28  Amount  Class  \n",
      "0 -0.189115  0.133558 -0.021053  149.62      0  \n",
      "1  0.125895 -0.008983  0.014724    2.69      0  \n",
      "2 -0.139097 -0.055353 -0.059752  378.66      0  \n",
      "3 -0.221929  0.062723  0.061458  123.50      0  \n",
      "4  0.502292  0.219422  0.215153   69.99      0  \n",
      "\n",
      "[5 rows x 31 columns]\n"
     ]
    }
   ],
   "execution_count": 4
  },
  {
   "metadata": {
    "ExecuteTime": {
     "end_time": "2024-12-06T05:43:19.819742Z",
     "start_time": "2024-12-06T05:43:19.218409Z"
    }
   },
   "cell_type": "code",
   "source": [
    "# Verificar información básica del dataset\n",
    "print(\"Información del dataset:\")\n",
    "print(df.info())\n",
    "\n",
    "# Resumen estadístico\n",
    "print(\"Estadísticas descriptivas:\")\n",
    "print(df.describe())\n",
    "\n",
    "# Distribución de las clases\n",
    "print(\"Distribución de clases:\")\n",
    "print(df['Class'].value_counts())\n"
   ],
   "id": "6f037c11c1a399cc",
   "outputs": [
    {
     "name": "stdout",
     "output_type": "stream",
     "text": [
      "Información del dataset:\n",
      "<class 'pandas.core.frame.DataFrame'>\n",
      "RangeIndex: 284807 entries, 0 to 284806\n",
      "Data columns (total 31 columns):\n",
      " #   Column  Non-Null Count   Dtype  \n",
      "---  ------  --------------   -----  \n",
      " 0   Time    284807 non-null  float64\n",
      " 1   V1      284807 non-null  float64\n",
      " 2   V2      284807 non-null  float64\n",
      " 3   V3      284807 non-null  float64\n",
      " 4   V4      284807 non-null  float64\n",
      " 5   V5      284807 non-null  float64\n",
      " 6   V6      284807 non-null  float64\n",
      " 7   V7      284807 non-null  float64\n",
      " 8   V8      284807 non-null  float64\n",
      " 9   V9      284807 non-null  float64\n",
      " 10  V10     284807 non-null  float64\n",
      " 11  V11     284807 non-null  float64\n",
      " 12  V12     284807 non-null  float64\n",
      " 13  V13     284807 non-null  float64\n",
      " 14  V14     284807 non-null  float64\n",
      " 15  V15     284807 non-null  float64\n",
      " 16  V16     284807 non-null  float64\n",
      " 17  V17     284807 non-null  float64\n",
      " 18  V18     284807 non-null  float64\n",
      " 19  V19     284807 non-null  float64\n",
      " 20  V20     284807 non-null  float64\n",
      " 21  V21     284807 non-null  float64\n",
      " 22  V22     284807 non-null  float64\n",
      " 23  V23     284807 non-null  float64\n",
      " 24  V24     284807 non-null  float64\n",
      " 25  V25     284807 non-null  float64\n",
      " 26  V26     284807 non-null  float64\n",
      " 27  V27     284807 non-null  float64\n",
      " 28  V28     284807 non-null  float64\n",
      " 29  Amount  284807 non-null  float64\n",
      " 30  Class   284807 non-null  int64  \n",
      "dtypes: float64(30), int64(1)\n",
      "memory usage: 67.4 MB\n",
      "None\n",
      "Estadísticas descriptivas:\n",
      "                Time            V1            V2            V3            V4  \\\n",
      "count  284807.000000  2.848070e+05  2.848070e+05  2.848070e+05  2.848070e+05   \n",
      "mean    94813.859575  1.168375e-15  3.416908e-16 -1.379537e-15  2.074095e-15   \n",
      "std     47488.145955  1.958696e+00  1.651309e+00  1.516255e+00  1.415869e+00   \n",
      "min         0.000000 -5.640751e+01 -7.271573e+01 -4.832559e+01 -5.683171e+00   \n",
      "25%     54201.500000 -9.203734e-01 -5.985499e-01 -8.903648e-01 -8.486401e-01   \n",
      "50%     84692.000000  1.810880e-02  6.548556e-02  1.798463e-01 -1.984653e-02   \n",
      "75%    139320.500000  1.315642e+00  8.037239e-01  1.027196e+00  7.433413e-01   \n",
      "max    172792.000000  2.454930e+00  2.205773e+01  9.382558e+00  1.687534e+01   \n",
      "\n",
      "                 V5            V6            V7            V8            V9  \\\n",
      "count  2.848070e+05  2.848070e+05  2.848070e+05  2.848070e+05  2.848070e+05   \n",
      "mean   9.604066e-16  1.487313e-15 -5.556467e-16  1.213481e-16 -2.406331e-15   \n",
      "std    1.380247e+00  1.332271e+00  1.237094e+00  1.194353e+00  1.098632e+00   \n",
      "min   -1.137433e+02 -2.616051e+01 -4.355724e+01 -7.321672e+01 -1.343407e+01   \n",
      "25%   -6.915971e-01 -7.682956e-01 -5.540759e-01 -2.086297e-01 -6.430976e-01   \n",
      "50%   -5.433583e-02 -2.741871e-01  4.010308e-02  2.235804e-02 -5.142873e-02   \n",
      "75%    6.119264e-01  3.985649e-01  5.704361e-01  3.273459e-01  5.971390e-01   \n",
      "max    3.480167e+01  7.330163e+01  1.205895e+02  2.000721e+01  1.559499e+01   \n",
      "\n",
      "       ...           V21           V22           V23           V24  \\\n",
      "count  ...  2.848070e+05  2.848070e+05  2.848070e+05  2.848070e+05   \n",
      "mean   ...  1.654067e-16 -3.568593e-16  2.578648e-16  4.473266e-15   \n",
      "std    ...  7.345240e-01  7.257016e-01  6.244603e-01  6.056471e-01   \n",
      "min    ... -3.483038e+01 -1.093314e+01 -4.480774e+01 -2.836627e+00   \n",
      "25%    ... -2.283949e-01 -5.423504e-01 -1.618463e-01 -3.545861e-01   \n",
      "50%    ... -2.945017e-02  6.781943e-03 -1.119293e-02  4.097606e-02   \n",
      "75%    ...  1.863772e-01  5.285536e-01  1.476421e-01  4.395266e-01   \n",
      "max    ...  2.720284e+01  1.050309e+01  2.252841e+01  4.584549e+00   \n",
      "\n",
      "                V25           V26           V27           V28         Amount  \\\n",
      "count  2.848070e+05  2.848070e+05  2.848070e+05  2.848070e+05  284807.000000   \n",
      "mean   5.340915e-16  1.683437e-15 -3.660091e-16 -1.227390e-16      88.349619   \n",
      "std    5.212781e-01  4.822270e-01  4.036325e-01  3.300833e-01     250.120109   \n",
      "min   -1.029540e+01 -2.604551e+00 -2.256568e+01 -1.543008e+01       0.000000   \n",
      "25%   -3.171451e-01 -3.269839e-01 -7.083953e-02 -5.295979e-02       5.600000   \n",
      "50%    1.659350e-02 -5.213911e-02  1.342146e-03  1.124383e-02      22.000000   \n",
      "75%    3.507156e-01  2.409522e-01  9.104512e-02  7.827995e-02      77.165000   \n",
      "max    7.519589e+00  3.517346e+00  3.161220e+01  3.384781e+01   25691.160000   \n",
      "\n",
      "               Class  \n",
      "count  284807.000000  \n",
      "mean        0.001727  \n",
      "std         0.041527  \n",
      "min         0.000000  \n",
      "25%         0.000000  \n",
      "50%         0.000000  \n",
      "75%         0.000000  \n",
      "max         1.000000  \n",
      "\n",
      "[8 rows x 31 columns]\n",
      "Distribución de clases:\n",
      "Class\n",
      "0    284315\n",
      "1       492\n",
      "Name: count, dtype: int64\n"
     ]
    }
   ],
   "execution_count": 6
  },
  {
   "metadata": {
    "ExecuteTime": {
     "end_time": "2024-12-06T06:37:35.620262Z",
     "start_time": "2024-12-06T06:37:35.179324Z"
    }
   },
   "cell_type": "code",
   "source": [
    "# Separar características (X) y etiqueta (y)\n",
    "X = df.drop(columns=[\"Class\"])\n",
    "y = df[\"Class\"]\n",
    "\n",
    "# Dividir los datos en entrenamiento y prueba\n",
    "X_train, X_test, y_train, y_test = train_test_split(X, y, test_size=0.2, random_state=42, stratify=y)\n",
    "\n",
    "# Estandarizar características\n",
    "scaler = StandardScaler()\n",
    "X_train_scaled = scaler.fit_transform(X_train)\n",
    "X_test_scaled = scaler.transform(X_test)\n",
    "\n",
    "print(\"Preprocesamiento completado.\")\n"
   ],
   "id": "16f9e158daf3338c",
   "outputs": [
    {
     "name": "stdout",
     "output_type": "stream",
     "text": [
      "Preprocesamiento completado.\n"
     ]
    }
   ],
   "execution_count": 19
  },
  {
   "metadata": {
    "ExecuteTime": {
     "end_time": "2024-12-06T06:39:39.406367Z",
     "start_time": "2024-12-06T06:37:41.870484Z"
    }
   },
   "cell_type": "code",
   "source": [
    "input_dim = X_train_scaled.shape[1]\n",
    "input_layer = Input(shape=(input_dim,))\n",
    "encoded = Dense(16, activation=\"relu\")(input_layer)\n",
    "encoded = Dense(8, activation=\"relu\")(encoded)\n",
    "decoded = Dense(16, activation=\"relu\")(encoded)\n",
    "decoded = Dense(input_dim, activation=\"linear\")(decoded)\n",
    "\n",
    "autoencoder = Model(inputs=input_layer, outputs=decoded)\n",
    "autoencoder.compile(optimizer=Adam(learning_rate=0.001), loss=\"mse\")\n",
    "\n",
    "# Entrenar el autoencoder\n",
    "history = autoencoder.fit(\n",
    "    X_train_scaled,\n",
    "    X_train_scaled,\n",
    "    epochs=50,\n",
    "    batch_size=256,\n",
    "    validation_data=(X_test_scaled, X_test_scaled),\n",
    "    verbose=1\n",
    ")\n",
    "\n",
    "print(\"Entrenamiento del autoencoder completado.\")\n"
   ],
   "id": "e47428b63d172f1b",
   "outputs": [
    {
     "name": "stdout",
     "output_type": "stream",
     "text": [
      "Epoch 1/50\n",
      "\u001B[1m891/891\u001B[0m \u001B[32m━━━━━━━━━━━━━━━━━━━━\u001B[0m\u001B[37m\u001B[0m \u001B[1m4s\u001B[0m 2ms/step - loss: 0.8916 - val_loss: 0.6417\n",
      "Epoch 2/50\n",
      "\u001B[1m891/891\u001B[0m \u001B[32m━━━━━━━━━━━━━━━━━━━━\u001B[0m\u001B[37m\u001B[0m \u001B[1m2s\u001B[0m 2ms/step - loss: 0.6224 - val_loss: 0.5866\n",
      "Epoch 3/50\n",
      "\u001B[1m891/891\u001B[0m \u001B[32m━━━━━━━━━━━━━━━━━━━━\u001B[0m\u001B[37m\u001B[0m \u001B[1m2s\u001B[0m 2ms/step - loss: 0.5729 - val_loss: 0.5547\n",
      "Epoch 4/50\n",
      "\u001B[1m891/891\u001B[0m \u001B[32m━━━━━━━━━━━━━━━━━━━━\u001B[0m\u001B[37m\u001B[0m \u001B[1m2s\u001B[0m 2ms/step - loss: 0.5518 - val_loss: 0.5345\n",
      "Epoch 5/50\n",
      "\u001B[1m891/891\u001B[0m \u001B[32m━━━━━━━━━━━━━━━━━━━━\u001B[0m\u001B[37m\u001B[0m \u001B[1m2s\u001B[0m 2ms/step - loss: 0.5298 - val_loss: 0.5225\n",
      "Epoch 6/50\n",
      "\u001B[1m891/891\u001B[0m \u001B[32m━━━━━━━━━━━━━━━━━━━━\u001B[0m\u001B[37m\u001B[0m \u001B[1m2s\u001B[0m 2ms/step - loss: 0.5195 - val_loss: 0.5159\n",
      "Epoch 7/50\n",
      "\u001B[1m891/891\u001B[0m \u001B[32m━━━━━━━━━━━━━━━━━━━━\u001B[0m\u001B[37m\u001B[0m \u001B[1m2s\u001B[0m 2ms/step - loss: 0.5108 - val_loss: 0.5095\n",
      "Epoch 8/50\n",
      "\u001B[1m891/891\u001B[0m \u001B[32m━━━━━━━━━━━━━━━━━━━━\u001B[0m\u001B[37m\u001B[0m \u001B[1m2s\u001B[0m 2ms/step - loss: 0.5075 - val_loss: 0.5034\n",
      "Epoch 9/50\n",
      "\u001B[1m891/891\u001B[0m \u001B[32m━━━━━━━━━━━━━━━━━━━━\u001B[0m\u001B[37m\u001B[0m \u001B[1m2s\u001B[0m 2ms/step - loss: 0.5080 - val_loss: 0.5009\n",
      "Epoch 10/50\n",
      "\u001B[1m891/891\u001B[0m \u001B[32m━━━━━━━━━━━━━━━━━━━━\u001B[0m\u001B[37m\u001B[0m \u001B[1m2s\u001B[0m 2ms/step - loss: 0.5006 - val_loss: 0.4950\n",
      "Epoch 11/50\n",
      "\u001B[1m891/891\u001B[0m \u001B[32m━━━━━━━━━━━━━━━━━━━━\u001B[0m\u001B[37m\u001B[0m \u001B[1m2s\u001B[0m 3ms/step - loss: 0.4950 - val_loss: 0.4908\n",
      "Epoch 12/50\n",
      "\u001B[1m891/891\u001B[0m \u001B[32m━━━━━━━━━━━━━━━━━━━━\u001B[0m\u001B[37m\u001B[0m \u001B[1m2s\u001B[0m 3ms/step - loss: 0.4888 - val_loss: 0.4888\n",
      "Epoch 13/50\n",
      "\u001B[1m891/891\u001B[0m \u001B[32m━━━━━━━━━━━━━━━━━━━━\u001B[0m\u001B[37m\u001B[0m \u001B[1m3s\u001B[0m 3ms/step - loss: 0.4939 - val_loss: 0.4853\n",
      "Epoch 14/50\n",
      "\u001B[1m891/891\u001B[0m \u001B[32m━━━━━━━━━━━━━━━━━━━━\u001B[0m\u001B[37m\u001B[0m \u001B[1m2s\u001B[0m 3ms/step - loss: 0.4965 - val_loss: 0.4823\n",
      "Epoch 15/50\n",
      "\u001B[1m891/891\u001B[0m \u001B[32m━━━━━━━━━━━━━━━━━━━━\u001B[0m\u001B[37m\u001B[0m \u001B[1m2s\u001B[0m 3ms/step - loss: 0.4852 - val_loss: 0.4805\n",
      "Epoch 16/50\n",
      "\u001B[1m891/891\u001B[0m \u001B[32m━━━━━━━━━━━━━━━━━━━━\u001B[0m\u001B[37m\u001B[0m \u001B[1m2s\u001B[0m 3ms/step - loss: 0.4871 - val_loss: 0.4781\n",
      "Epoch 17/50\n",
      "\u001B[1m891/891\u001B[0m \u001B[32m━━━━━━━━━━━━━━━━━━━━\u001B[0m\u001B[37m\u001B[0m \u001B[1m2s\u001B[0m 3ms/step - loss: 0.4922 - val_loss: 0.4769\n",
      "Epoch 18/50\n",
      "\u001B[1m891/891\u001B[0m \u001B[32m━━━━━━━━━━━━━━━━━━━━\u001B[0m\u001B[37m\u001B[0m \u001B[1m2s\u001B[0m 2ms/step - loss: 0.4824 - val_loss: 0.4760\n",
      "Epoch 19/50\n",
      "\u001B[1m891/891\u001B[0m \u001B[32m━━━━━━━━━━━━━━━━━━━━\u001B[0m\u001B[37m\u001B[0m \u001B[1m2s\u001B[0m 3ms/step - loss: 0.4881 - val_loss: 0.4753\n",
      "Epoch 20/50\n",
      "\u001B[1m891/891\u001B[0m \u001B[32m━━━━━━━━━━━━━━━━━━━━\u001B[0m\u001B[37m\u001B[0m \u001B[1m3s\u001B[0m 3ms/step - loss: 0.4828 - val_loss: 0.4740\n",
      "Epoch 21/50\n",
      "\u001B[1m891/891\u001B[0m \u001B[32m━━━━━━━━━━━━━━━━━━━━\u001B[0m\u001B[37m\u001B[0m \u001B[1m2s\u001B[0m 3ms/step - loss: 0.4811 - val_loss: 0.4734\n",
      "Epoch 22/50\n",
      "\u001B[1m891/891\u001B[0m \u001B[32m━━━━━━━━━━━━━━━━━━━━\u001B[0m\u001B[37m\u001B[0m \u001B[1m2s\u001B[0m 3ms/step - loss: 0.4684 - val_loss: 0.4725\n",
      "Epoch 23/50\n",
      "\u001B[1m891/891\u001B[0m \u001B[32m━━━━━━━━━━━━━━━━━━━━\u001B[0m\u001B[37m\u001B[0m \u001B[1m2s\u001B[0m 2ms/step - loss: 0.4733 - val_loss: 0.4725\n",
      "Epoch 24/50\n",
      "\u001B[1m891/891\u001B[0m \u001B[32m━━━━━━━━━━━━━━━━━━━━\u001B[0m\u001B[37m\u001B[0m \u001B[1m2s\u001B[0m 3ms/step - loss: 0.4667 - val_loss: 0.4729\n",
      "Epoch 25/50\n",
      "\u001B[1m891/891\u001B[0m \u001B[32m━━━━━━━━━━━━━━━━━━━━\u001B[0m\u001B[37m\u001B[0m \u001B[1m2s\u001B[0m 3ms/step - loss: 0.4727 - val_loss: 0.4701\n",
      "Epoch 26/50\n",
      "\u001B[1m891/891\u001B[0m \u001B[32m━━━━━━━━━━━━━━━━━━━━\u001B[0m\u001B[37m\u001B[0m \u001B[1m2s\u001B[0m 3ms/step - loss: 0.4678 - val_loss: 0.4698\n",
      "Epoch 27/50\n",
      "\u001B[1m891/891\u001B[0m \u001B[32m━━━━━━━━━━━━━━━━━━━━\u001B[0m\u001B[37m\u001B[0m \u001B[1m3s\u001B[0m 3ms/step - loss: 0.4734 - val_loss: 0.4687\n",
      "Epoch 28/50\n",
      "\u001B[1m891/891\u001B[0m \u001B[32m━━━━━━━━━━━━━━━━━━━━\u001B[0m\u001B[37m\u001B[0m \u001B[1m2s\u001B[0m 3ms/step - loss: 0.4755 - val_loss: 0.4695\n",
      "Epoch 29/50\n",
      "\u001B[1m891/891\u001B[0m \u001B[32m━━━━━━━━━━━━━━━━━━━━\u001B[0m\u001B[37m\u001B[0m \u001B[1m2s\u001B[0m 3ms/step - loss: 0.4762 - val_loss: 0.4688\n",
      "Epoch 30/50\n",
      "\u001B[1m891/891\u001B[0m \u001B[32m━━━━━━━━━━━━━━━━━━━━\u001B[0m\u001B[37m\u001B[0m \u001B[1m2s\u001B[0m 3ms/step - loss: 0.4640 - val_loss: 0.4676\n",
      "Epoch 31/50\n",
      "\u001B[1m891/891\u001B[0m \u001B[32m━━━━━━━━━━━━━━━━━━━━\u001B[0m\u001B[37m\u001B[0m \u001B[1m3s\u001B[0m 3ms/step - loss: 0.4683 - val_loss: 0.4674\n",
      "Epoch 32/50\n",
      "\u001B[1m891/891\u001B[0m \u001B[32m━━━━━━━━━━━━━━━━━━━━\u001B[0m\u001B[37m\u001B[0m \u001B[1m2s\u001B[0m 3ms/step - loss: 0.4765 - val_loss: 0.4668\n",
      "Epoch 33/50\n",
      "\u001B[1m891/891\u001B[0m \u001B[32m━━━━━━━━━━━━━━━━━━━━\u001B[0m\u001B[37m\u001B[0m \u001B[1m2s\u001B[0m 3ms/step - loss: 0.4660 - val_loss: 0.4665\n",
      "Epoch 34/50\n",
      "\u001B[1m891/891\u001B[0m \u001B[32m━━━━━━━━━━━━━━━━━━━━\u001B[0m\u001B[37m\u001B[0m \u001B[1m2s\u001B[0m 3ms/step - loss: 0.4646 - val_loss: 0.4664\n",
      "Epoch 35/50\n",
      "\u001B[1m891/891\u001B[0m \u001B[32m━━━━━━━━━━━━━━━━━━━━\u001B[0m\u001B[37m\u001B[0m \u001B[1m2s\u001B[0m 3ms/step - loss: 0.4663 - val_loss: 0.4656\n",
      "Epoch 36/50\n",
      "\u001B[1m891/891\u001B[0m \u001B[32m━━━━━━━━━━━━━━━━━━━━\u001B[0m\u001B[37m\u001B[0m \u001B[1m3s\u001B[0m 3ms/step - loss: 0.4640 - val_loss: 0.4665\n",
      "Epoch 37/50\n",
      "\u001B[1m891/891\u001B[0m \u001B[32m━━━━━━━━━━━━━━━━━━━━\u001B[0m\u001B[37m\u001B[0m \u001B[1m2s\u001B[0m 3ms/step - loss: 0.4744 - val_loss: 0.4648\n",
      "Epoch 38/50\n",
      "\u001B[1m891/891\u001B[0m \u001B[32m━━━━━━━━━━━━━━━━━━━━\u001B[0m\u001B[37m\u001B[0m \u001B[1m2s\u001B[0m 3ms/step - loss: 0.4667 - val_loss: 0.4662\n",
      "Epoch 39/50\n",
      "\u001B[1m891/891\u001B[0m \u001B[32m━━━━━━━━━━━━━━━━━━━━\u001B[0m\u001B[37m\u001B[0m \u001B[1m2s\u001B[0m 3ms/step - loss: 0.4705 - val_loss: 0.4644\n",
      "Epoch 40/50\n",
      "\u001B[1m891/891\u001B[0m \u001B[32m━━━━━━━━━━━━━━━━━━━━\u001B[0m\u001B[37m\u001B[0m \u001B[1m2s\u001B[0m 3ms/step - loss: 0.4617 - val_loss: 0.4649\n",
      "Epoch 41/50\n",
      "\u001B[1m891/891\u001B[0m \u001B[32m━━━━━━━━━━━━━━━━━━━━\u001B[0m\u001B[37m\u001B[0m \u001B[1m3s\u001B[0m 3ms/step - loss: 0.4572 - val_loss: 0.4643\n",
      "Epoch 42/50\n",
      "\u001B[1m891/891\u001B[0m \u001B[32m━━━━━━━━━━━━━━━━━━━━\u001B[0m\u001B[37m\u001B[0m \u001B[1m2s\u001B[0m 2ms/step - loss: 0.4618 - val_loss: 0.4640\n",
      "Epoch 43/50\n",
      "\u001B[1m891/891\u001B[0m \u001B[32m━━━━━━━━━━━━━━━━━━━━\u001B[0m\u001B[37m\u001B[0m \u001B[1m2s\u001B[0m 3ms/step - loss: 0.4660 - val_loss: 0.4636\n",
      "Epoch 44/50\n",
      "\u001B[1m891/891\u001B[0m \u001B[32m━━━━━━━━━━━━━━━━━━━━\u001B[0m\u001B[37m\u001B[0m \u001B[1m2s\u001B[0m 3ms/step - loss: 0.4701 - val_loss: 0.4650\n",
      "Epoch 45/50\n",
      "\u001B[1m891/891\u001B[0m \u001B[32m━━━━━━━━━━━━━━━━━━━━\u001B[0m\u001B[37m\u001B[0m \u001B[1m2s\u001B[0m 3ms/step - loss: 0.4670 - val_loss: 0.4632\n",
      "Epoch 46/50\n",
      "\u001B[1m891/891\u001B[0m \u001B[32m━━━━━━━━━━━━━━━━━━━━\u001B[0m\u001B[37m\u001B[0m \u001B[1m2s\u001B[0m 3ms/step - loss: 0.4645 - val_loss: 0.4733\n",
      "Epoch 47/50\n",
      "\u001B[1m891/891\u001B[0m \u001B[32m━━━━━━━━━━━━━━━━━━━━\u001B[0m\u001B[37m\u001B[0m \u001B[1m2s\u001B[0m 3ms/step - loss: 0.4626 - val_loss: 0.4643\n",
      "Epoch 48/50\n",
      "\u001B[1m891/891\u001B[0m \u001B[32m━━━━━━━━━━━━━━━━━━━━\u001B[0m\u001B[37m\u001B[0m \u001B[1m2s\u001B[0m 3ms/step - loss: 0.4600 - val_loss: 0.4639\n",
      "Epoch 49/50\n",
      "\u001B[1m891/891\u001B[0m \u001B[32m━━━━━━━━━━━━━━━━━━━━\u001B[0m\u001B[37m\u001B[0m \u001B[1m2s\u001B[0m 3ms/step - loss: 0.4612 - val_loss: 0.4633\n",
      "Epoch 50/50\n",
      "\u001B[1m891/891\u001B[0m \u001B[32m━━━━━━━━━━━━━━━━━━━━\u001B[0m\u001B[37m\u001B[0m \u001B[1m2s\u001B[0m 3ms/step - loss: 0.4608 - val_loss: 0.4631\n",
      "Entrenamiento del autoencoder completado.\n"
     ]
    }
   ],
   "execution_count": 20
  },
  {
   "metadata": {
    "ExecuteTime": {
     "end_time": "2024-12-06T06:40:23.763593Z",
     "start_time": "2024-12-06T06:40:12.285920Z"
    }
   },
   "cell_type": "code",
   "source": [
    "#Calcular el error de reconstrucción\n",
    "reconstructed_train = autoencoder.predict(X_train_scaled)\n",
    "reconstruction_error_train = np.mean(np.power(X_train_scaled - reconstructed_train, 2), axis=1)\n",
    "\n",
    "reconstructed_test = autoencoder.predict(X_test_scaled)\n",
    "reconstruction_error_test = np.mean(np.power(X_test_scaled - reconstructed_test, 2), axis=1)\n",
    "\n",
    "# Establecer un umbral basado en el percentil 95 del error de reconstrucción en la clase 0\n",
    "threshold = np.percentile(reconstruction_error_train[y_train == 0], 95)\n",
    "\n",
    "print(f\"Umbral de error de reconstrucción: {threshold}\")\n",
    "\n",
    "# Clasificar basado en el umbral\n",
    "y_pred_autoencoder = (reconstruction_error_test > threshold).astype(int)\n",
    "\n",
    "# Evaluar el desempeño\n",
    "print(\"Reporte de clasificación (Autoencoder con error de reconstrucción):\")\n",
    "print(classification_report(y_test, y_pred_autoencoder))\n",
    "\n",
    "print(\"Matriz de confusión (Autoencoder con error de reconstrucción):\")\n",
    "print(confusion_matrix(y_test, y_pred_autoencoder))"
   ],
   "id": "169297cfc41eb8b3",
   "outputs": [
    {
     "name": "stdout",
     "output_type": "stream",
     "text": [
      "\u001B[1m7121/7121\u001B[0m \u001B[32m━━━━━━━━━━━━━━━━━━━━\u001B[0m\u001B[37m\u001B[0m \u001B[1m6s\u001B[0m 784us/step\n",
      "\u001B[1m1781/1781\u001B[0m \u001B[32m━━━━━━━━━━━━━━━━━━━━\u001B[0m\u001B[37m\u001B[0m \u001B[1m1s\u001B[0m 808us/step\n",
      "Umbral de error de reconstrucción: 1.0368104031833925\n",
      "Reporte de clasificación (Autoencoder con error de reconstrucción):\n",
      "              precision    recall  f1-score   support\n",
      "\n",
      "           0       1.00      0.95      0.97     56864\n",
      "           1       0.02      0.64      0.04        98\n",
      "\n",
      "    accuracy                           0.95     56962\n",
      "   macro avg       0.51      0.80      0.51     56962\n",
      "weighted avg       1.00      0.95      0.97     56962\n",
      "\n",
      "Matriz de confusión (Autoencoder con error de reconstrucción):\n",
      "[[53925  2939]\n",
      " [   35    63]]\n"
     ]
    }
   ],
   "execution_count": 21
  },
  {
   "metadata": {
    "ExecuteTime": {
     "end_time": "2024-12-06T06:40:42.901837Z",
     "start_time": "2024-12-06T06:40:30.837139Z"
    }
   },
   "cell_type": "code",
   "source": [
    "#Extraer características codificadas del autoencoder\n",
    "encoder = Model(inputs=autoencoder.input, outputs=autoencoder.layers[2].output)\n",
    "X_train_encoded = encoder.predict(X_train_scaled)\n",
    "X_test_encoded = encoder.predict(X_test_scaled)\n",
    "\n",
    "# Aplicar SMOTE a las características codificadas\n",
    "smote = SMOTE(random_state=42)\n",
    "X_train_resampled, y_train_resampled = smote.fit_resample(X_train_encoded, y_train)\n",
    "\n",
    "print(\"SMOTE aplicado. Nuevas distribuciones de clases:\")\n",
    "print(pd.Series(y_train_resampled).value_counts())\n"
   ],
   "id": "8e78009211075e2a",
   "outputs": [
    {
     "name": "stdout",
     "output_type": "stream",
     "text": [
      "\u001B[1m7121/7121\u001B[0m \u001B[32m━━━━━━━━━━━━━━━━━━━━\u001B[0m\u001B[37m\u001B[0m \u001B[1m6s\u001B[0m 876us/step\n",
      "\u001B[1m1781/1781\u001B[0m \u001B[32m━━━━━━━━━━━━━━━━━━━━\u001B[0m\u001B[37m\u001B[0m \u001B[1m1s\u001B[0m 770us/step\n",
      "SMOTE aplicado. Nuevas distribuciones de clases:\n",
      "Class\n",
      "0    227451\n",
      "1    227451\n",
      "Name: count, dtype: int64\n"
     ]
    }
   ],
   "execution_count": 22
  },
  {
   "metadata": {
    "ExecuteTime": {
     "end_time": "2024-12-06T06:43:54.146466Z",
     "start_time": "2024-12-06T06:40:57.257945Z"
    }
   },
   "cell_type": "code",
   "source": [
    "from sklearn.ensemble import RandomForestClassifier\n",
    "\n",
    "# Entrenar el modelo Random Forest\n",
    "rf_clf = RandomForestClassifier(n_estimators=100, random_state=42)\n",
    "rf_clf.fit(X_train_resampled, y_train_resampled)\n",
    "\n",
    "# Predicciones con probabilidades\n",
    "y_pred_proba_rf = rf_clf.predict_proba(X_test_encoded)[:, 1]\n",
    "\n",
    "# Ajustar el umbral\n",
    "threshold_rf = 0.2  # Ajustar según sea necesario\n",
    "y_pred_rf = (y_pred_proba_rf >= threshold_rf).astype(int)\n",
    "\n",
    "# Evaluar el modelo\n",
    "print(\"Reporte de clasificación (Random Forest, umbral ajustado):\")\n",
    "print(classification_report(y_test, y_pred_rf))\n",
    "\n",
    "print(\"Matriz de confusión (Random Forest, umbral ajustado):\")\n",
    "print(confusion_matrix(y_test, y_pred_rf))\n"
   ],
   "id": "3513bdb0fa68df9a",
   "outputs": [
    {
     "name": "stdout",
     "output_type": "stream",
     "text": [
      "Reporte de clasificación (Random Forest, umbral ajustado):\n",
      "              precision    recall  f1-score   support\n",
      "\n",
      "           0       1.00      1.00      1.00     56864\n",
      "           1       0.23      0.89      0.37        98\n",
      "\n",
      "    accuracy                           0.99     56962\n",
      "   macro avg       0.62      0.94      0.68     56962\n",
      "weighted avg       1.00      0.99      1.00     56962\n",
      "\n",
      "Matriz de confusión (Random Forest, umbral ajustado):\n",
      "[[56580   284]\n",
      " [   11    87]]\n"
     ]
    }
   ],
   "execution_count": 23
  },
  {
   "metadata": {
    "ExecuteTime": {
     "end_time": "2024-12-06T06:01:13.940851Z",
     "start_time": "2024-12-06T06:01:13.719685Z"
    }
   },
   "cell_type": "code",
   "source": [
    "# Graficar la pérdida del autoencoder durante el entrenamiento\n",
    "plt.plot(history.history['loss'], label='Pérdida de entrenamiento')\n",
    "plt.plot(history.history['val_loss'], label='Pérdida de validación')\n",
    "plt.legend()\n",
    "plt.title(\"Pérdida del Autoencoder durante el Entrenamiento\")\n",
    "plt.xlabel(\"Época\")\n",
    "plt.ylabel(\"Pérdida\")\n",
    "plt.show()\n"
   ],
   "id": "624c7053da19b114",
   "outputs": [
    {
     "data": {
      "text/plain": [
       "<Figure size 640x480 with 1 Axes>"
      ],
      "image/png": "[encoded data removed]"
     },
     "metadata": {},
     "output_type": "display_data"
    }
   ],
   "execution_count": 14
  },
  {
   "metadata": {
    "ExecuteTime": {
     "end_time": "2024-12-06T06:19:09.567204Z",
     "start_time": "2024-12-06T06:13:21.637087Z"
    }
   },
   "cell_type": "code",
   "source": [
    "\n",
    "# Separar características y etiquetas\n",
    "X = df.drop(columns=[\"Class\"])\n",
    "y = df[\"Class\"]\n",
    "\n",
    "# Escalar las características\n",
    "scaler = StandardScaler()\n",
    "X_scaled = scaler.fit_transform(X)\n",
    "\n",
    "# Dividir los datos en entrenamiento y prueba\n",
    "X_train, X_test, y_train, y_test = train_test_split(X_scaled, y, test_size=0.3, random_state=42, stratify=y)\n",
    "\n",
    "# Aplicar SMOTE para balancear las clases en el conjunto de entrenamiento\n",
    "smote = SMOTE(random_state=42)\n",
    "X_train_resampled, y_train_resampled = smote.fit_resample(X_train, y_train)\n",
    "\n",
    "# Entrenar el modelo Random Forest\n",
    "rf_clf = RandomForestClassifier(n_estimators=100, random_state=42)\n",
    "rf_clf.fit(X_train_resampled, y_train_resampled)\n",
    "\n",
    "# Hacer predicciones en el conjunto de prueba\n",
    "y_pred = rf_clf.predict(X_test)\n",
    "\n",
    "# Evaluar el modelo\n",
    "print(\"Reporte de clasificación (Random Forest sin Autoencoder):\")\n",
    "print(classification_report(y_test, y_pred))\n",
    "\n",
    "print(\"Matriz de confusión (Random Forest sin Autoencoder):\")\n",
    "print(confusion_matrix(y_test, y_pred))"
   ],
   "id": "fd5e9c1945f4262",
   "outputs": [
    {
     "name": "stdout",
     "output_type": "stream",
     "text": [
      "Reporte de clasificación (Random Forest sin Autoencoder):\n",
      "              precision    recall  f1-score   support\n",
      "\n",
      "           0       1.00      1.00      1.00     85295\n",
      "           1       0.89      0.78      0.83       148\n",
      "\n",
      "    accuracy                           1.00     85443\n",
      "   macro avg       0.95      0.89      0.92     85443\n",
      "weighted avg       1.00      1.00      1.00     85443\n",
      "\n",
      "Matriz de confusión (Random Forest sin Autoencoder):\n",
      "[[85281    14]\n",
      " [   32   116]]\n"
     ]
    }
   ],
   "execution_count": 17
  },
  {
   "metadata": {},
   "cell_type": "code",
   "outputs": [],
   "execution_count": null,
   "source": "",
   "id": "25c880279740de65"
  }
 ],
 "metadata": {
  "kernelspec": {
   "display_name": "Python 3",
   "language": "python",
   "name": "python3"
  },
  "language_info": {
   "codemirror_mode": {
    "name": "ipython",
    "version": 2
   },
   "file_extension": ".py",
   "mimetype": "text/x-python",
   "name": "python",
   "nbconvert_exporter": "python",
   "pygments_lexer": "ipython2",
   "version": "2.7.6"
  }
 },
 "nbformat": 4,
 "nbformat_minor": 5
}
